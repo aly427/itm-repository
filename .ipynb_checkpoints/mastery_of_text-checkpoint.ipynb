{
 "cells": [
  {
   "cell_type": "code",
   "execution_count": 50,
   "id": "a0dc0b03-0067-474b-b0ba-eec926846ede",
   "metadata": {},
   "outputs": [
    {
     "name": "stdout",
     "output_type": "stream",
     "text": [
      "Lines: 99969\n",
      "Words: 793413\n",
      "Apostle Count: 113\n",
      "Most Common Word: the (Count: 64306)\n"
     ]
    }
   ],
   "source": [
    "import urllib.request\n",
    "\n",
    "file_link = 'https://www.gutenberg.org/cache/epub/10/pg10.txt'\n",
    "\n",
    "num_lines = 0\n",
    "num_words = 0\n",
    "apostle = 0\n",
    "freq_dict = {}\n",
    "punctuation = '.,!?;:\"\\'()[]{}<>0123456789'\n",
    "\n",
    "with urllib.request.urlopen(file_link) as response:\n",
    "    pg10 = response.read().decode('utf-8').lower()\n",
    "\n",
    "lines = pg10.split('\\n')\n",
    "\n",
    "# Count occurrences of 'apostle'\n",
    "num_apostle = pg10.lower().count('apostle')\n",
    "\n",
    "for line in lines:\n",
    "    # Remove punctuation and numbers from each word\n",
    "    wordslist = [word.strip(punctuation) for word in line.split()]\n",
    "    wordslist = [word for word in wordslist if word]  # Remove empty strings\n",
    "    \n",
    "    num_lines += 1\n",
    "    num_words += len(wordslist)\n",
    "\n",
    "    # Update the frequency dictionary for each word\n",
    "    for word in wordslist:\n",
    "        if word in freq_dict:\n",
    "            freq_dict[word] += 1\n",
    "        else:\n",
    "            freq_dict[word] = 1\n",
    "\n",
    "most_common_word = max(freq_dict, key=freq_dict.get)\n",
    "\n",
    "print(\"Lines: \" + str(num_lines))\n",
    "print(\"Words: \" + str(num_words))\n",
    "print(\"Apostle Count: \" + str(num_apostle))\n",
    "print(\"Most Common Word: \" + most_common_word + \" (Count: \" + str(freq_dict[most_common_word]) + \")\")\n"
   ]
  },
  {
   "cell_type": "code",
   "execution_count": null,
   "id": "604cebb1-4d0e-4d61-8c2b-ed25597953a9",
   "metadata": {},
   "outputs": [],
   "source": []
  }
 ],
 "metadata": {
  "kernelspec": {
   "display_name": "Python 3 (ipykernel)",
   "language": "python",
   "name": "python3"
  },
  "language_info": {
   "codemirror_mode": {
    "name": "ipython",
    "version": 3
   },
   "file_extension": ".py",
   "mimetype": "text/x-python",
   "name": "python",
   "nbconvert_exporter": "python",
   "pygments_lexer": "ipython3",
   "version": "3.11.7"
  }
 },
 "nbformat": 4,
 "nbformat_minor": 5
}
